{
 "cells": [
  {
   "cell_type": "markdown",
   "metadata": {},
   "source": [
    "## Package Imports"
   ]
  },
  {
   "cell_type": "code",
   "execution_count": 1,
   "metadata": {},
   "outputs": [],
   "source": [
    "import numpy as np\n",
    "import pandas as pd\n",
    "import websocket\n",
    "import json\n",
    "import ssl\n",
    "import threading\n",
    "import sys\n",
    "import pickle"
   ]
  },
  {
   "cell_type": "markdown",
   "metadata": {},
   "source": [
    "## WebSocket Connection"
   ]
  },
  {
   "cell_type": "markdown",
   "metadata": {},
   "source": [
    "### Methods"
   ]
  },
  {
   "cell_type": "markdown",
   "metadata": {},
   "source": [
    "#### Initialization of Variables"
   ]
  },
  {
   "cell_type": "code",
   "execution_count": 4,
   "metadata": {},
   "outputs": [],
   "source": [
    "#Initialize Variables\n",
    "keys = []\n",
    "ask_prices = []\n",
    "bid_prices = []\n",
    "ask_arbitrage_vals = []\n",
    "bid_arbitrage_vals = []\n",
    "ids = []\n",
    "symbols = [[\"BTCEUR\", \"EURUSDT\", \"BTCUSDT\"], [\"ETHEUR\", \"EURUSDT\", \"ETHUSDT\"], [\"LTCBTC\", \"BTCUSDT\", \"LTCUSDT\"], \n",
    "           [\"XRPBTC\", \"BTCUSDT\", \"XRPUSDT\"], [\"ADABTC\", \"BTCUSDT\", \"ADAUSDT\"], [\"ETHBTC\", \"BTCEUR\", \"ETHEUR\"],\n",
    "           [\"EURUSDT\", \"USDTGBP\", \"EURGBP\"], [\"BCHBTC\", \"BTCUSDT\", \"BCHUSDT\"], [\"EOSBTC\", \"BTCUSDT\", \"EOSUSDT\"],\n",
    "           [\"LINKBTC\", \"BTCUSDT\", \"LINKUSDT\"]]\n",
    "data_stored = {}\n",
    "for ss in symbols:\n",
    "    for s in ss:\n",
    "        data_stored[s] = []"
   ]
  },
  {
   "cell_type": "markdown",
   "metadata": {},
   "source": [
    "#### Saver - Loader Methods"
   ]
  },
  {
   "cell_type": "code",
   "execution_count": 5,
   "metadata": {},
   "outputs": [],
   "source": [
    "def save_results(keys, ask_prices, bid_prices, ids, ask_arbitrage_vals, bid_arbitrage_vals):\n",
    "    with open(\"keys2\", \"wb\") as k:   \n",
    "        pickle.dump(keys, k) \n",
    "    \n",
    "    with open(\"ask_prices2\", \"wb\") as ap:   \n",
    "        pickle.dump(ask_prices, ap)\n",
    "\n",
    "    with open(\"bid_prices2\", \"wb\") as bp:   \n",
    "        pickle.dump(bid_prices, bp)\n",
    "    \n",
    "    with open(\"ids2\", \"wb\") as id:   \n",
    "        pickle.dump(ids, id)\n",
    "    \n",
    "    with open(\"ask_arbitrage_vals2\", \"wb\") as aav:   \n",
    "        pickle.dump(ask_arbitrage_vals, aav)\n",
    "    \n",
    "    with open(\"bid_arbitrage_vals2\", \"wb\") as bav:   \n",
    "        pickle.dump(bid_arbitrage_vals, bav)"
   ]
  },
  {
   "cell_type": "code",
   "execution_count": 4,
   "metadata": {},
   "outputs": [],
   "source": [
    "def load_results(extend = False):\n",
    "    loaded_keys = []\n",
    "    loaded_ask_prices = []\n",
    "    loaded_bid_prices = []\n",
    "    loaded_ids = []\n",
    "    loaded_ask_arbitrage_vals = []\n",
    "    loaded_bid_arbitrage_vals = []\n",
    "\n",
    "    open_keys = \"keys\"\n",
    "    open_ask_prices = \"ask_prices\"\n",
    "    open_bid_prices = \"bid_prices\"\n",
    "    open_ids = \"ids\"\n",
    "    open_aav = \"ask_arbitrage_vals\"\n",
    "    open_bav = \"bid_arbitrage_vals\"\n",
    "    if extend:\n",
    "        open_keys += \"2\"\n",
    "        open_ask_prices += \"2\"\n",
    "        open_bid_prices += \"2\"\n",
    "        open_ids += \"2\"\n",
    "        open_aav += \"2\"\n",
    "        open_bav += \"2\"\n",
    "\n",
    "    with open(open_keys, \"rb\") as k:   \n",
    "        loaded_keys = pickle.load(k) \n",
    "    \n",
    "    with open(open_ask_prices, \"rb\") as ap:   \n",
    "        loaded_ask_prices = pickle.load(ap)\n",
    "\n",
    "    with open(open_bid_prices, \"rb\") as bp:   \n",
    "        loaded_bid_prices = pickle.load(bp)\n",
    "    \n",
    "    with open(open_ids, \"rb\") as id:   \n",
    "       loaded_ids = pickle.load(id)\n",
    "    \n",
    "    with open(open_aav, \"rb\") as aav:   \n",
    "        loaded_ask_arbitrage_vals = pickle.load(aav)\n",
    "    \n",
    "    with open(open_bav, \"rb\") as bav:   \n",
    "        loaded_bid_arbitrage_vals = pickle.load(bav)\n",
    "\n",
    "    return loaded_keys, loaded_ask_prices, loaded_bid_prices, loaded_ids, loaded_ask_arbitrage_vals, loaded_bid_arbitrage_vals"
   ]
  },
  {
   "cell_type": "markdown",
   "metadata": {},
   "source": [
    "#### Arbitrage Finder and Reporting Methods"
   ]
  },
  {
   "cell_type": "code",
   "execution_count": 8,
   "metadata": {},
   "outputs": [],
   "source": [
    "def reporter(keys, ask_prices, bid_prices, ids, ask_arbitrage_vals, bid_arbitrage_vals):\n",
    "    print(f\"Number of Found Arbitrages: {len(keys)}\")\n",
    "    key_arbitrage_counts = np.unique(np.array(keys), return_counts=True, axis = 0)\n",
    "    keys_found = key_arbitrage_counts[0]\n",
    "    arbitrage_counts = key_arbitrage_counts[1]\n",
    "    for i in range(len(key_arbitrage_counts[0])):\n",
    "        print(f\"{keys_found[i]}----> {arbitrage_counts[i]}\")\n",
    "\n",
    "    for i in range(len(keys)):\n",
    "        print(f\"----------{i+1}---------------\")\n",
    "        print(\"Symbols:\")\n",
    "        print(keys[i][0], keys[i][1], keys[i][2])\n",
    "        print(\"IDs:\")\n",
    "        print(ids[i][0], ids[i][1], ids[i][2])\n",
    "        print(\"Ask Prices:\")\n",
    "        print(ask_prices[i][0], ask_prices[i][1], ask_prices[i][2])\n",
    "        print(\"Ask Arbitrage Value:\")\n",
    "        print(ask_arbitrage_vals[i])\n",
    "        print(\"Bid Prices:\")\n",
    "        print(bid_prices[i][0], bid_prices[i][1], bid_prices[i][2])\n",
    "        print(\"Bid Arbitrage Value:\")\n",
    "        print(bid_arbitrage_vals[i])\n",
    "        print(\"---------------------------\")\n",
    "\n",
    "def check_pairs(key1, key2, key3, pairs1, pairs2, pairs3):\n",
    "    global keys, ask_prices, bid_prices, ids, ask_arbitrage_vals, bid_arbitrage_vals\n",
    "    last_pair1 = pairs1[-1]\n",
    "    last_pair2 = pairs2[-1]\n",
    "    last_pair3 = pairs3[-1]\n",
    "\n",
    "    id1 = last_pair1[0]\n",
    "    id2 = last_pair2[0]\n",
    "    id3 = last_pair3[0]\n",
    "\n",
    "    ask1 = last_pair1[1]\n",
    "    ask2 = last_pair2[1]\n",
    "    ask3 = last_pair3[1]\n",
    "\n",
    "    bid1 = last_pair1[2]\n",
    "    bid2 = last_pair2[2]\n",
    "    bid3 = last_pair3[2]\n",
    "    ask_val = ask1 * ask2 * (1/ask3) \n",
    "    bid_val = bid1 * bid2 * (1/bid3)\n",
    "    if ask_val < 1 or bid_val > 1:\n",
    "        if len(pairs1) > 1 and len(pairs2) > 1 and len(pairs3) > 1: #Avoid reporting the same arbitrage\n",
    "            prev_pair1 = pairs1[-2]\n",
    "            prev_pair2 = pairs2[-2]\n",
    "            prev_pair3 = pairs3[-2]\n",
    "            prev_ask1 = prev_pair1[1]\n",
    "            prev_ask2 = prev_pair2[1]\n",
    "            prev_ask3 = prev_pair3[1]\n",
    "            prev_bid1 = prev_pair1[2]\n",
    "            prev_bid2 = prev_pair2[2]\n",
    "            prev_bid3 = prev_pair3[2]\n",
    "\n",
    "            if (prev_ask1 != ask1 and prev_ask2 != ask2 and prev_ask3 != ask3) and (prev_bid1 != bid1 and prev_bid2!= bid2 and prev_bid3 != bid3):\n",
    "                keys.append([key1, key2, key3])\n",
    "                ids.append([id1, id2, id3])\n",
    "                ask_prices.append([ask1, ask2, ask3])\n",
    "                bid_prices.append([bid1, bid2, bid3])\n",
    "                ask_arbitrage_vals.append(ask_val)\n",
    "                bid_arbitrage_vals.append(bid_val)\n",
    "        else:\n",
    "            keys.append([key1, key2, key3])\n",
    "            ids.append([id1, id2, id3])\n",
    "            ask_prices.append([ask1, ask2, ask3])\n",
    "            bid_prices.append([bid1, bid2, bid3])\n",
    "            ask_arbitrage_vals.append(ask_val)\n",
    "            bid_arbitrage_vals.append(bid_val)\n",
    "\n",
    "def check_triangular_arbitrage(data_stored, symbols):\n",
    "    for s in symbols:\n",
    "        key1 = s[0]\n",
    "        key2 = s[1]\n",
    "        key3 = s[2]\n",
    "        pairs1 = data_stored[key1]\n",
    "        pairs2 = data_stored[key2]\n",
    "        pairs3 = data_stored[key3]\n",
    "\n",
    "        if len(pairs1) > 0 and len(pairs2) > 0 and len(pairs3) > 0:\n",
    "            check_pairs(key1, key2, key3, pairs1, pairs2, pairs3)\n"
   ]
  },
  {
   "cell_type": "markdown",
   "metadata": {},
   "source": [
    "#### Data Monitoring and Connection Methods"
   ]
  },
  {
   "cell_type": "code",
   "execution_count": 8,
   "metadata": {},
   "outputs": [],
   "source": [
    "def on_message(ws, message):\n",
    "    global data_stored, symbols\n",
    "    # Process the data as needed\n",
    "    data = json.loads(message)\n",
    "    symbol = data.get(\"data\", {}).get(\"s\")\n",
    "    update_id = data.get(\"data\", {}).get(\"u\")\n",
    "    ask_price = data.get(\"data\", {}).get(\"a\")\n",
    "    bid_price = data.get(\"data\", {}).get(\"b\")\n",
    "    if update_id and symbol and ask_price and bid_price:\n",
    "        data_stored[symbol].append([update_id, float(ask_price), float(bid_price)])\n",
    "        check_triangular_arbitrage(data_stored, symbols)\n",
    "\n",
    "def on_error(ws, error):\n",
    "    print(\"ERROR\")\n",
    "    print(error)\n",
    "\n",
    "def on_close(ws, close_status_code, close_msg):\n",
    "    print(\"Closed Connection\") \n",
    "\n",
    "def on_open(ws):\n",
    "    print(\"Opened Connection\")\n",
    "    ws.send(json.dumps({\"method\": \"SUBSCRIBE\", \n",
    "                        \"id\": 1,\n",
    "                        \"params\": [\"btcusdt@bookTicker\", \"btceur@bookTicker\", \"eurusdt@bookTicker\", \n",
    "                                   \"etheur@bookTicker\", \"ethusdt@bookTicker\", \"ethbtc@bookTicker\",\n",
    "                                   \"ltcbtc@bookTicker\", \"ltcusdt@bookTicker\",\n",
    "                                   \"xrpbtc@bookTicker\", \"xrpusdt@bookTicker\",\n",
    "                                   \"adabtc@booktTicker\", \"adausdt@bookTiker\",\n",
    "                                   \"usdtgbp@bookTicker\", \"eurgbp@bookTicker\",\n",
    "                                   \"bchbtc@bookTicker\", \"bchusdt@bookTicker\",\n",
    "                                   \"eosbtc@bookTicker\", \"eosusdt@bookTicker\",\n",
    "                                   \"linkbtc@bookTicker\", \"linkusdt@bookTicker\"]}))\n",
    "\n",
    "def close_connection(ws):\n",
    "    ws.close()"
   ]
  },
  {
   "cell_type": "markdown",
   "metadata": {},
   "source": [
    "### Connection"
   ]
  },
  {
   "cell_type": "code",
   "execution_count": 9,
   "metadata": {},
   "outputs": [
    {
     "name": "stdout",
     "output_type": "stream",
     "text": [
      "Opened Connection\n",
      "Closed Connection\n"
     ]
    },
    {
     "data": {
      "text/plain": [
       "False"
      ]
     },
     "execution_count": 9,
     "metadata": {},
     "output_type": "execute_result"
    }
   ],
   "source": [
    "websocket.enableTrace(False)\n",
    "socket = \"wss://stream.binance.com:9443/stream\"\n",
    "sslopt = {\"cert_reqs\": ssl.CERT_NONE}\n",
    "ws = websocket.WebSocketApp(socket,\n",
    "                                on_message=on_message,\n",
    "                                on_error=on_error,\n",
    "                                on_close=on_close,\n",
    "                                on_open= on_open)\n",
    "\n",
    "# Schedule closing the connection after one minute\n",
    "threading.Timer(5400, close_connection, args=[ws]).start()\n",
    "    \n",
    "ws.run_forever(sslopt=sslopt)"
   ]
  },
  {
   "cell_type": "markdown",
   "metadata": {},
   "source": [
    "### Method Calls and Result Saves"
   ]
  },
  {
   "cell_type": "code",
   "execution_count": 10,
   "metadata": {},
   "outputs": [],
   "source": [
    "save_results(keys, ask_prices, bid_prices, ids, ask_arbitrage_vals, bid_arbitrage_vals)"
   ]
  },
  {
   "cell_type": "code",
   "execution_count": 5,
   "metadata": {},
   "outputs": [],
   "source": [
    "loaded_keys, loaded_ask_prices, loaded_bid_prices, loaded_ids, loaded_ask_arbitrage_vals, loaded_bid_arbitrage_vals = load_results()"
   ]
  },
  {
   "cell_type": "code",
   "execution_count": 6,
   "metadata": {},
   "outputs": [],
   "source": [
    "loaded_keys2, loaded_ask_prices2, loaded_bid_prices2, loaded_ids2, loaded_ask_arbitrage_vals2, loaded_bid_arbitrage_vals2 = load_results(extend = True)"
   ]
  },
  {
   "cell_type": "code",
   "execution_count": null,
   "metadata": {},
   "outputs": [],
   "source": [
    "reporter(loaded_keys2, loaded_ask_prices2, loaded_bid_prices2, loaded_ids2, loaded_ask_arbitrage_vals2, loaded_bid_arbitrage_vals2)"
   ]
  },
  {
   "cell_type": "code",
   "execution_count": null,
   "metadata": {},
   "outputs": [],
   "source": [
    "reporter(loaded_keys, loaded_ask_prices, loaded_bid_prices, loaded_ids, loaded_ask_arbitrage_vals, loaded_bid_arbitrage_vals)"
   ]
  }
 ],
 "metadata": {
  "kernelspec": {
   "display_name": "Python 3",
   "language": "python",
   "name": "python3"
  },
  "language_info": {
   "codemirror_mode": {
    "name": "ipython",
    "version": 3
   },
   "file_extension": ".py",
   "mimetype": "text/x-python",
   "name": "python",
   "nbconvert_exporter": "python",
   "pygments_lexer": "ipython3",
   "version": "3.8.5"
  }
 },
 "nbformat": 4,
 "nbformat_minor": 2
}
